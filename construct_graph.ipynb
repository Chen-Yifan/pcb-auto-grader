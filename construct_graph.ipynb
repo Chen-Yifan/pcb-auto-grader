{
 "cells": [
  {
   "cell_type": "code",
   "execution_count": 168,
   "metadata": {},
   "outputs": [],
   "source": [
    "from matplotlib.pyplot import imread\n",
    "import numpy as np\n",
    "import matplotlib.pyplot as plt\n",
    "from skimage.transform import resize, rescale\n",
    "from skimage import color\n",
    "import scipy.signal\n",
    "from time import time\n",
    "from scipy.ndimage import gaussian_filter\n",
    "from matplotlib.patches import Circle\n",
    "\n",
    "%matplotlib inline"
   ]
  },
  {
   "cell_type": "code",
   "execution_count": 169,
   "metadata": {},
   "outputs": [],
   "source": [
    "def apply_med_filter_2_2(img):\n",
    "    for i in range(0, len(img), 2):\n",
    "        for j in range(0, len(img[0]), 2):\n",
    "            img[i:i+2, j:j+2] = np.median(img[i:i+2, j:j+2])\n",
    "    return img"
   ]
  },
  {
   "cell_type": "code",
   "execution_count": 170,
   "metadata": {},
   "outputs": [
    {
     "data": {
      "text/plain": [
       "<matplotlib.image.AxesImage at 0x275b2ea9518>"
      ]
     },
     "execution_count": 170,
     "metadata": {},
     "output_type": "execute_result"
    },
    {
     "data": {
      "image/png": "[encoded data removed]",
      "text/plain": [
       "<Figure size 432x288 with 1 Axes>"
      ]
     },
     "metadata": {
      "needs_background": "light"
     },
     "output_type": "display_data"
    }
   ],
   "source": [
    "def get_gray_norm_image(path):\n",
    "    orig_img = imread(path)\n",
    "    gray_img = color.rgb2gray(orig_img)\n",
    "    norm_img = gray_img/255.\n",
    "    return norm_img\n",
    "        \n",
    "\n",
    "img = get_gray_norm_image('./pcb_image_2.png')\n",
    "plt.axis('off')\n",
    "plt.imshow(img, cmap='gray')"
   ]
  },
  {
   "cell_type": "code",
   "execution_count": 171,
   "metadata": {},
   "outputs": [],
   "source": [
    "def show_component(h_start=0, h_end=1, w_start=0, w_end=1):\n",
    "    \"\"\"\n",
    "    show component from h_start to h_start, w_start to w_end (input [0, 1])\n",
    "    \"\"\"\n",
    "\n",
    "    plt.axis('off')\n",
    "    h, w = img.shape\n",
    "    \n",
    "    kernel = img[int(h*h_start):int(h*h_end), int(w*w_start):int(w*w_end)]\n",
    "    plt.imshow(kernel, cmap='gray')\n",
    "    return kernel"
   ]
  },
  {
   "cell_type": "code",
   "execution_count": 172,
   "metadata": {},
   "outputs": [
    {
     "data": {
      "image/png": "[encoded data removed]",
      "text/plain": [
       "<Figure size 432x288 with 1 Axes>"
      ]
     },
     "metadata": {
      "needs_background": "light"
     },
     "output_type": "display_data"
    }
   ],
   "source": [
    "component0_unlabeled = show_component(0.4, 0.66, 0.07, 0.25)\n",
    "component1_unlabeled = show_component(0.761, 0.836, 0.831, 0.895)\n",
    "component2_unlabeled = show_component(0.598, 0.671, 0.569, 0.771)\n",
    "component3_unlabeled = show_component(0.248, 0.288, 0.676, 0.735)\n",
    "component4_unlabeled = show_component(0.67, 0.73, 0.375, 0.397)"
   ]
  },
  {
   "cell_type": "code",
   "execution_count": 173,
   "metadata": {},
   "outputs": [],
   "source": [
    "def get_detected(img, component):\n",
    "    \"\"\"\n",
    "    input: image and component patch\n",
    "    output: best_location (left, upper corner) along with a diagram showing the detected image\n",
    "    \"\"\"\n",
    "    start_time = time()\n",
    "    best_score, res, best_loc = -1, None, None\n",
    "    for component in [component, component.T]:\n",
    "        med = np.median(img)\n",
    "        signed_img = np.where(img > med, 1, -1)\n",
    "        signed_component = np.where(component > med, 1, -1)\n",
    "        m1, n1 = signed_img.shape[:2]\n",
    "        m2, n2 = signed_component.shape[:2]\n",
    "        convolved = np.zeros(signed_img.shape)\n",
    "        for i in range(m1-m2):\n",
    "            for j in range(n1-n2):\n",
    "                convolved[i, j] = np.sum(signed_img[i:i+m2, j:j+n2]*signed_component)\n",
    "        loc = np.argmax(convolved.ravel())\n",
    "        i, j = loc//n1, loc % n1\n",
    "        matched = np.zeros(img.shape)\n",
    "        matched[i:i+m2, j:j+n2] = img[i:i+m2, j:j+n2]\n",
    "        if (convolved.ravel()[loc] > best_score):\n",
    "            best_score = convolved.ravel()[loc]\n",
    "            res = matched\n",
    "            best_loc =loc\n",
    "            \n",
    "    print('Get detected: {} seconds elapsed'.format(time()-start_time))\n",
    "    return (best_loc//n1, best_loc%n1), res"
   ]
  },
  {
   "cell_type": "code",
   "execution_count": 174,
   "metadata": {},
   "outputs": [
    {
     "data": {
      "text/plain": [
       "<matplotlib.image.AxesImage at 0x275b3710668>"
      ]
     },
     "execution_count": 174,
     "metadata": {},
     "output_type": "execute_result"
    },
    {
     "data": {
      "image/png": "[encoded data removed]",
      "text/plain": [
       "<Figure size 432x288 with 1 Axes>"
      ]
     },
     "metadata": {
      "needs_background": "light"
     },
     "output_type": "display_data"
    }
   ],
   "source": [
    "img_2_9 = get_gray_norm_image('./2-9-top.png')\n",
    "plt.imshow(img_2_9, cmap='gray')"
   ]
  },
  {
   "cell_type": "code",
   "execution_count": 175,
   "metadata": {},
   "outputs": [
    {
     "name": "stdout",
     "output_type": "stream",
     "text": [
      "Get detected: 7.2083210945129395 seconds elapsed\n"
     ]
    },
    {
     "data": {
      "text/plain": [
       "<matplotlib.image.AxesImage at 0x275b38b0a20>"
      ]
     },
     "execution_count": 175,
     "metadata": {},
     "output_type": "execute_result"
    },
    {
     "data": {
      "image/png": "[encoded data removed]",
      "text/plain": [
       "<Figure size 432x288 with 1 Axes>"
      ]
     },
     "metadata": {
      "needs_background": "light"
     },
     "output_type": "display_data"
    }
   ],
   "source": [
    "plt.imshow(get_detected(img_2_9, component0_unlabeled)[1], cmap='gray')"
   ]
  },
  {
   "cell_type": "code",
   "execution_count": 176,
   "metadata": {},
   "outputs": [
    {
     "name": "stdout",
     "output_type": "stream",
     "text": [
      "Get detected: 3.1692659854888916 seconds elapsed\n"
     ]
    },
    {
     "data": {
      "text/plain": [
       "<matplotlib.image.AxesImage at 0x275b2f881d0>"
      ]
     },
     "execution_count": 176,
     "metadata": {},
     "output_type": "execute_result"
    },
    {
     "data": {
      "image/png": "[encoded data removed]",
      "text/plain": [
       "<Figure size 432x288 with 1 Axes>"
      ]
     },
     "metadata": {
      "needs_background": "light"
     },
     "output_type": "display_data"
    }
   ],
   "source": [
    "plt.imshow(get_detected(img_2_9, component1_unlabeled)[1], cmap='gray')"
   ]
  },
  {
   "cell_type": "code",
   "execution_count": 177,
   "metadata": {},
   "outputs": [
    {
     "name": "stdout",
     "output_type": "stream",
     "text": [
      "Get detected: 3.7603421211242676 seconds elapsed\n"
     ]
    },
    {
     "data": {
      "text/plain": [
       "<matplotlib.image.AxesImage at 0x275b34f25f8>"
      ]
     },
     "execution_count": 177,
     "metadata": {},
     "output_type": "execute_result"
    },
    {
     "data": {
      "image/png": "[encoded data removed]",
      "text/plain": [
       "<Figure size 432x288 with 1 Axes>"
      ]
     },
     "metadata": {
      "needs_background": "light"
     },
     "output_type": "display_data"
    }
   ],
   "source": [
    "plt.imshow(get_detected(img_2_9, component2_unlabeled)[1], cmap='gray')"
   ]
  },
  {
   "cell_type": "code",
   "execution_count": 178,
   "metadata": {},
   "outputs": [
    {
     "name": "stdout",
     "output_type": "stream",
     "text": [
      "Get detected: 2.621943950653076 seconds elapsed\n"
     ]
    },
    {
     "data": {
      "text/plain": [
       "<matplotlib.image.AxesImage at 0x275b2ff48d0>"
      ]
     },
     "execution_count": 178,
     "metadata": {},
     "output_type": "execute_result"
    },
    {
     "data": {
      "image/png": "[encoded data removed]",
      "text/plain": [
       "<Figure size 432x288 with 1 Axes>"
      ]
     },
     "metadata": {
      "needs_background": "light"
     },
     "output_type": "display_data"
    }
   ],
   "source": [
    "plt.imshow(get_detected(img_2_9, component3_unlabeled)[1], cmap='gray')"
   ]
  },
  {
   "cell_type": "code",
   "execution_count": 179,
   "metadata": {},
   "outputs": [
    {
     "name": "stdout",
     "output_type": "stream",
     "text": [
      "Get detected: 2.133552312850952 seconds elapsed\n"
     ]
    },
    {
     "data": {
      "text/plain": [
       "<matplotlib.image.AxesImage at 0x275b310bc50>"
      ]
     },
     "execution_count": 179,
     "metadata": {},
     "output_type": "execute_result"
    },
    {
     "data": {
      "image/png": "[encoded data removed]",
      "text/plain": [
       "<Figure size 432x288 with 1 Axes>"
      ]
     },
     "metadata": {
      "needs_background": "light"
     },
     "output_type": "display_data"
    }
   ],
   "source": [
    "plt.imshow(get_detected(img_2_9, component4_unlabeled)[1], cmap='gray')"
   ]
  },
  {
   "cell_type": "markdown",
   "metadata": {},
   "source": [
    "\n",
    "# TODO: fix the nodes of the graph."
   ]
  },
  {
   "cell_type": "code",
   "execution_count": 180,
   "metadata": {},
   "outputs": [
    {
     "data": {
      "text/plain": [
       "<matplotlib.image.AxesImage at 0x275b1e59b00>"
      ]
     },
     "execution_count": 180,
     "metadata": {},
     "output_type": "execute_result"
    },
    {
     "data": {
      "image/png": "[encoded data removed]",
      "text/plain": [
       "<Figure size 432x288 with 1 Axes>"
      ]
     },
     "metadata": {
      "needs_background": "light"
     },
     "output_type": "display_data"
    },
    {
     "data": {
      "image/png": "[encoded data removed]",
      "text/plain": [
       "<Figure size 432x288 with 1 Axes>"
      ]
     },
     "metadata": {
      "needs_background": "light"
     },
     "output_type": "display_data"
    }
   ],
   "source": [
    "def to_binary(copper_img):\n",
    "    \"\"\"\n",
    "    convert image to binary\n",
    "    hopefully remove the noise (horizontal bar)\n",
    "    \"\"\"\n",
    "    return np.where(copper_img > np.percentile(copper_img, 5), 1, 0)\n",
    "\n",
    "copper_img = get_gray_norm_image('./2-9-top-copper.png')\n",
    "plt.imshow(to_binary(copper_img), cmap='gray')\n",
    "plt.figure()\n",
    "plt.imshow(to_binary(img_2_9), cmap='gray')"
   ]
  },
  {
   "cell_type": "code",
   "execution_count": 181,
   "metadata": {},
   "outputs": [
    {
     "name": "stdout",
     "output_type": "stream",
     "text": [
      "Get detected: 7.372976779937744 seconds elapsed\n",
      "Get detected: 3.1544265747070312 seconds elapsed\n"
     ]
    }
   ],
   "source": [
    "loc1 = get_detected(img_2_9, component0_unlabeled)[0]\n",
    "loc2 = get_detected(img_2_9, component1_unlabeled)[0]"
   ]
  },
  {
   "cell_type": "code",
   "execution_count": 182,
   "metadata": {},
   "outputs": [],
   "source": [
    "center1 = list(loc1)\n",
    "center1[0] += component0_unlabeled.shape[0]/2\n",
    "center1[1] += component0_unlabeled.shape[1]/2\n",
    "\n",
    "center2 = list(loc2)\n",
    "center2[0] += component1_unlabeled.shape[0]/2\n",
    "center2[1] += component1_unlabeled.shape[1]/2"
   ]
  },
  {
   "cell_type": "code",
   "execution_count": 185,
   "metadata": {},
   "outputs": [
    {
     "data": {
      "text/plain": [
       "<matplotlib.patches.Circle at 0x275ac69f828>"
      ]
     },
     "execution_count": 185,
     "metadata": {},
     "output_type": "execute_result"
    },
    {
     "data": {
      "image/png": "[encoded data removed]",
      "text/plain": [
       "<Figure size 432x288 with 1 Axes>"
      ]
     },
     "metadata": {
      "needs_background": "light"
     },
     "output_type": "display_data"
    }
   ],
   "source": [
    "fig,ax = plt.subplots(1)\n",
    "ax.set_aspect('equal')\n",
    "ax.imshow(to_binary(copper_img), cmap='gray')\n",
    "ax.add_patch(Circle(center1[::-1], 30))\n",
    "ax.add_patch(Circle(center2[::-1], 30))"
   ]
  },
  {
   "cell_type": "code",
   "execution_count": 236,
   "metadata": {},
   "outputs": [],
   "source": [
    "def traverse_binary_graph(input_img, start_pos):\n",
    "    \"\"\"\n",
    "    Given input image and start position, return an graph with edge traversed (marked red)\n",
    "    TODO: instead of just traversing wires as edges, incorporate nodes and construct the graph\n",
    "    \"\"\"\n",
    "    start_time = time()\n",
    "    m, n = input_img.shape\n",
    "    img = np.zeros((m, n, 3)).astype(int)\n",
    "    for i in range(m):\n",
    "        for j in range(n):\n",
    "            img[i, j] = (0, 0, 0) if input_img[i, j] == 0 else (255, 255, 255)\n",
    "    \n",
    "    start_pos = list(map(int, start_pos))\n",
    "    \n",
    "    \n",
    "    queue = []\n",
    "    queue.append(start_pos)\n",
    "    img[start_pos[0], start_pos[1]] = (255, 0, 0)\n",
    "    while queue:\n",
    "        i, j = queue.pop()\n",
    "        for ni, nj in [[i-1, j], [i+1, j], [i, j+1], [i, j-1]]:\n",
    "            if 0 <= ni < m and 0 <= nj < n and np.sum(img[ni, nj]) < 1:\n",
    "                queue.append((ni, nj))\n",
    "                img[ni, nj] = (255, 0, 0)\n",
    "    print('traverse_binary_graph: {} seconds elapsed'.format(time()-start_time))\n",
    "    return img"
   ]
  },
  {
   "cell_type": "code",
   "execution_count": 237,
   "metadata": {},
   "outputs": [
    {
     "name": "stdout",
     "output_type": "stream",
     "text": [
      "traverse_binary_graph: 1.092576026916504 seconds elapsed\n"
     ]
    },
    {
     "data": {
      "text/plain": [
       "<matplotlib.image.AxesImage at 0x277f79869b0>"
      ]
     },
     "execution_count": 237,
     "metadata": {},
     "output_type": "execute_result"
    },
    {
     "data": {
      "image/png": "[encoded data removed]",
      "text/plain": [
       "<Figure size 432x288 with 1 Axes>"
      ]
     },
     "metadata": {
      "needs_background": "light"
     },
     "output_type": "display_data"
    }
   ],
   "source": [
    "plt.imshow(traverse_binary_graph(to_binary(copper_img), center2), cmap='gray')"
   ]
  },
  {
   "cell_type": "code",
   "execution_count": null,
   "metadata": {},
   "outputs": [],
   "source": []
  }
 ],
 "metadata": {
  "kernelspec": {
   "display_name": "Python 3",
   "language": "python",
   "name": "python3"
  },
  "language_info": {
   "codemirror_mode": {
    "name": "ipython",
    "version": 3
   },
   "file_extension": ".py",
   "mimetype": "text/x-python",
   "name": "python",
   "nbconvert_exporter": "python",
   "pygments_lexer": "ipython3",
   "version": "3.6.5"
  }
 },
 "nbformat": 4,
 "nbformat_minor": 2
}
