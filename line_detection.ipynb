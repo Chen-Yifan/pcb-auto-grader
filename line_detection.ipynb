{
 "cells": [
  {
   "cell_type": "code",
   "execution_count": 8,
   "metadata": {},
   "outputs": [],
   "source": [
    "import os, sys, numpy as np, cv2\n",
    "from scipy import signal\n",
    "from skimage.util import img_as_float\n",
    "from skimage.io import imread\n",
    "import matplotlib\n",
    "matplotlib.use('Agg')\n",
    "from matplotlib import pyplot as plt\n",
    "from scipy.ndimage import gaussian_filter\n",
    "\n",
    "%matplotlib inline"
   ]
  },
  {
   "cell_type": "code",
   "execution_count": 11,
   "metadata": {},
   "outputs": [
    {
     "name": "stdout",
     "output_type": "stream",
     "text": [
      "Running detector:\n"
     ]
    },
    {
     "data": {
      "image/png": "[encoded data removed]",
      "text/plain": [
       "<Figure size 432x288 with 1 Axes>"
      ]
     },
     "metadata": {
      "needs_background": "light"
     },
     "output_type": "display_data"
    }
   ],
   "source": [
    "def bilinear_interpolation(x, y, mag):\n",
    "    px, nx = int(np.floor(x)), int(np.ceil(x))\n",
    "    py, ny = int(np.floor(y)), int(np.ceil(y))\n",
    "    return (x-px)*(y-py)*mag[py,px] + (x-px)*(ny-y)*mag[ny,px] + (nx-x)*(y-py)*mag[py,nx] + (nx-x)*(ny-y)*mag[ny,nx]\n",
    "\n",
    "\n",
    "def compute_edges_dxdy(I):\n",
    "    \"\"\"Returns the norm of dx and dy as the edge response function.\"\"\"\n",
    "    threshold = 1.5\n",
    "\n",
    "    I = I.astype(np.float32)/255.\n",
    "    I = gaussian_filter(I, sigma=2, mode='mirror')\n",
    "    dx = signal.convolve2d(I, np.array([[-1, 0, 1]]), mode='same', boundary='symm')\n",
    "    dy = signal.convolve2d(I, np.array([[-1, 0, 1]]).T, mode='same', boundary='symm')\n",
    "    mag = np.sqrt(dx**2 + dy**2)\n",
    "\n",
    "    mag = mag / np.max(mag)\n",
    "    mag = mag * 255.\n",
    "    mag = np.clip(mag, 0, 255)\n",
    "    mag = mag.astype(np.uint8)\n",
    "\n",
    "    sup_mag = np.copy(mag)\n",
    "\n",
    "    m, n = mag.shape\n",
    "    for i in range(m-1):\n",
    "        for j in range(n-1):\n",
    "            py, ny = i - dy[i, j], i + dy[i, j]\n",
    "            px, nx = j - dx[i, j], j + dx[i, j]\n",
    "            if mag[i, j] < threshold*bilinear_interpolation(px, py, mag) or mag[i, j] < threshold*bilinear_interpolation(nx, ny, mag):\n",
    "                sup_mag[i, j] = 0\n",
    "    return sup_mag\n",
    "\n",
    "def detect_edges(path, fn):\n",
    "    I = cv2.imread(path)\n",
    "    gray = cv2.cvtColor(I, cv2.COLOR_BGR2GRAY)\n",
    "    mag = fn(gray)\n",
    "    plt.imshow(mag, cmap='gray')\n",
    "\n",
    "print('Running detector:')\n",
    "fn = compute_edges_dxdy\n",
    "detect_edges('./pcb_image_1.png', fn)"
   ]
  },
  {
   "cell_type": "code",
   "execution_count": null,
   "metadata": {},
   "outputs": [],
   "source": []
  }
 ],
 "metadata": {
  "kernelspec": {
   "display_name": "Python 3",
   "language": "python",
   "name": "python3"
  },
  "language_info": {
   "codemirror_mode": {
    "name": "ipython",
    "version": 3
   },
   "file_extension": ".py",
   "mimetype": "text/x-python",
   "name": "python",
   "nbconvert_exporter": "python",
   "pygments_lexer": "ipython3",
   "version": "3.6.5"
  }
 },
 "nbformat": 4,
 "nbformat_minor": 4
}
